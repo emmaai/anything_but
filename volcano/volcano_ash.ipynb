{
 "cells": [
  {
   "cell_type": "code",
   "execution_count": null,
   "metadata": {},
   "outputs": [],
   "source": [
    "from datetime import datetime\n",
    "import numpy as np\n",
    "import matplotlib.pyplot as plt\n",
    "import logging, sys\n",
    "import pandas as pd\n",
    "import statsmodels.api as sm\n",
    "from os import path\n",
    "from volcano_ash import *\n",
    "_LOG = logging.getLogger(__name__)\n",
    "stdout_hdlr = logging.StreamHandler(sys.stdout)\n",
    "formatter = logging.Formatter('[%(asctime)s.%(msecs)03d - %(levelname)s] %(message)s')\n",
    "stdout_hdlr.setFormatter(formatter)\n",
    "_LOG.addHandler(stdout_hdlr)\n",
    "_LOG.setLevel(logging.DEBUG)"
   ]
  },
  {
   "cell_type": "code",
   "execution_count": null,
   "metadata": {},
   "outputs": [],
   "source": [
    "path_list = np.arange(118, 86, -1)\n",
    "row_list = np.arange(64, 94)"
   ]
  },
  {
   "cell_type": "code",
   "execution_count": null,
   "metadata": {},
   "outputs": [],
   "source": [
    "change_erupt = np.zeros([row_list.shape[0], path_list.shape[0]])\n",
    "for path_id in path_list:\n",
    "    for row_id in row_list:\n",
    "        pathrow_id = '0'.join([str(path_id), str(row_id)])\n",
    "        csv_fname = 'threshold/' + pathrow_id + \".csv\"\n",
    "        if not path.exists(csv_fname):\n",
    "            continue\n",
    "        df = pd.read_csv(csv_fname) \n",
    "        if (df.shape[0] <= 5):\n",
    "            continue\n",
    "        df = df.set_index(\"time\")\n",
    "        df.index = pd.DatetimeIndex(df.index)   \n",
    "        after_erupt = df[(df.index >= np.datetime64('1991-06-15', 'D')) & (df.index < np.datetime64('1994-01-01', 'D'))].max()\n",
    "        change =  after_erupt - df[df.index < np.datetime64('1991-06-15', 'D')].min()\n",
    "        #change_erupt[np.where(row_list == row_id)[0], np.where(path_list == path_id)[0]] = change / after_erupt\n",
    "        change_erupt[np.where(row_list == row_id)[0], np.where(path_list == path_id)[0]] = change"
   ]
  },
  {
   "cell_type": "code",
   "execution_count": null,
   "metadata": {},
   "outputs": [],
   "source": [
    "change_erupt[change_erupt == 0] = np.nan"
   ]
  },
  {
   "cell_type": "code",
   "execution_count": null,
   "metadata": {},
   "outputs": [],
   "source": [
    "fig, ax = plt.subplots(figsize=(16,9))\n",
    "im = ax.imshow(np.ma.masked_where(np.isnan(change_erupt), np.clip(change_erupt, 0, 550)),\n",
    "               extent=[path_list[0]+0.5, path_list[-1]-0.5, row_list[-1]+0.5, row_list[0]-0.5])\n",
    "ax.xaxis.set_ticks(path_list)\n",
    "ax.yaxis.set_ticks(row_list)\n",
    "plt.colorbar(im);\n",
    "plt.title(\"Absolute impact magnitude\")\n",
    "plt.grid()"
   ]
  },
  {
   "cell_type": "code",
   "execution_count": null,
   "metadata": {},
   "outputs": [],
   "source": [
    "abnormal_list = np.zeros([row_list.shape[0], path_list.shape[0]]).astype(\"datetime64[D]\")\n",
    "reset_list = np.zeros([row_list.shape[0], path_list.shape[0]]).astype(\"datetime64[D]\")\n",
    "#standard_list = []\n",
    "for path_id in path_list:\n",
    "    for row_id in row_list:\n",
    "        pathrow_id = '0'.join([str(path_id), str(row_id)])\n",
    "        csv_fname = 'threshold/' + pathrow_id + \".csv\"\n",
    "        if not path.exists(csv_fname):\n",
    "            continue\n",
    "        df = pd.read_csv(csv_fname)\n",
    "        if (df.shape[0] <= 5):\n",
    "            continue\n",
    "        months, monthly_median, monthly_threshold = stats_by_month(df)\n",
    "        if len(months) < 3:\n",
    "            continue\n",
    "        if max(monthly_median) >= 650:\n",
    "            continue\n",
    "        standard = np.array([months, monthly_threshold])\n",
    "        abnormal_start, normal_reset = month_ppnormal(df, standard, 200, 60)\n",
    "        if abnormal_start is None or normal_reset is None:\n",
    "            continue\n",
    "        abnormal_list[np.where(row_list == row_id)[0], np.where(path_list == path_id)[0]] = abnormal_start\n",
    "        reset_list[np.where(row_list == row_id)[0], np.where(path_list == path_id)[0]] = normal_reset\n",
    "        #standard_list.append(standard)"
   ]
  },
  {
   "cell_type": "code",
   "execution_count": null,
   "metadata": {},
   "outputs": [],
   "source": [
    "time_period = (reset_list - abnormal_list) / np.timedelta64(1, \"D\")\n",
    "time_period[time_period == time_period.max()] = np.nan\n",
    "time_period[time_period == 0] = np.nan"
   ]
  },
  {
   "cell_type": "code",
   "execution_count": null,
   "metadata": {},
   "outputs": [],
   "source": [
    "fig, ax = plt.subplots(figsize=(16,9))\n",
    "im = ax.imshow(time_period, extent=[path_list[0]+0.5, path_list[-1]-0.5, row_list[-1]+0.5, row_list[0]-0.5])\n",
    "ax.xaxis.set_ticks(path_list)\n",
    "ax.yaxis.set_ticks(row_list)\n",
    "plt.colorbar(im);\n",
    "plt.grid()"
   ]
  },
  {
   "cell_type": "code",
   "execution_count": null,
   "metadata": {},
   "outputs": [],
   "source": [
    "path_id = '98'\n",
    "row_id = '068'"
   ]
  },
  {
   "cell_type": "code",
   "execution_count": null,
   "metadata": {},
   "outputs": [],
   "source": [
    "csv_fname = 'threshold/' + path_id + row_id + \".csv\"\n",
    "df = pd.read_csv(csv_fname)\n",
    "months, monthly_median, monthly_threshold = stats_by_month(df)\n",
    "standard = np.array([months, monthly_threshold])\n",
    "abnormal_start, normal_reset = month_ppnormal(df, standard, 200,60)"
   ]
  },
  {
   "cell_type": "code",
   "execution_count": null,
   "metadata": {},
   "outputs": [],
   "source": [
    "df = df.set_index(\"time\")\n",
    "df.index = pd.DatetimeIndex(df.index)"
   ]
  },
  {
   "cell_type": "code",
   "execution_count": null,
   "metadata": {
    "scrolled": false
   },
   "outputs": [],
   "source": [
    "fig, ax = plt.subplots(1, 1, figsize=(16,9))\n",
    "threshold_all = []\n",
    "#ax.plot(months, monthly_threshold, \"*-\", label='threshold', color='r')\n",
    "for y in df.index.year.unique():\n",
    "    if y < 1990:\n",
    "        continue\n",
    "    if y > 1996:\n",
    "        break\n",
    "    threshold_all += [np.datetime64(str(y) + '-0' + str(m), 'M')\n",
    "             if len(str(m)) == 1 else np.datetime64(str(y) + '-' + str(m), 'M')for m in months]\n",
    "ax.plot(df[(df.index.year >= 1990) & (df.index.year <=1996)], 'o--', label='darkest mean')\n",
    "ax.plot(threshold_all, monthly_threshold * (1996-1990+1), '*-', color='red', label='threshold')\n",
    "if abnormal_start is not None:\n",
    "    ax.vlines([abnormal_start, normal_reset], df.min(), df.max(), color='green', label='impact duration')\n",
    "plt.xticks(threshold_all, threshold_all, rotation='vertical')\n",
    "plt.grid()\n",
    "plt.title('path/row '+path_id + row_id)\n",
    "ax.legend()"
   ]
  }
 ],
 "metadata": {
  "kernelspec": {
   "display_name": "Python 3",
   "language": "python",
   "name": "python3"
  },
  "language_info": {
   "codemirror_mode": {
    "name": "ipython",
    "version": 3
   },
   "file_extension": ".py",
   "mimetype": "text/x-python",
   "name": "python",
   "nbconvert_exporter": "python",
   "pygments_lexer": "ipython3",
   "version": "3.7.4"
  }
 },
 "nbformat": 4,
 "nbformat_minor": 2
}
